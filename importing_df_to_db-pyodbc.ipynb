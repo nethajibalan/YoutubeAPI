{
 "cells": [
  {
   "cell_type": "code",
   "execution_count": 35,
   "id": "b47612f2",
   "metadata": {},
   "outputs": [],
   "source": [
    "# imports pandas, a package for data manipulation and analysis\n",
    "import pandas as pd  \n",
    "import pyodbc"
   ]
  },
  {
   "cell_type": "code",
   "execution_count": 36,
   "id": "b47e085a",
   "metadata": {},
   "outputs": [
    {
     "data": {
      "text/html": [
       "<div>\n",
       "<style scoped>\n",
       "    .dataframe tbody tr th:only-of-type {\n",
       "        vertical-align: middle;\n",
       "    }\n",
       "\n",
       "    .dataframe tbody tr th {\n",
       "        vertical-align: top;\n",
       "    }\n",
       "\n",
       "    .dataframe thead th {\n",
       "        text-align: right;\n",
       "    }\n",
       "</style>\n",
       "<table border=\"1\" class=\"dataframe\">\n",
       "  <thead>\n",
       "    <tr style=\"text-align: right;\">\n",
       "      <th></th>\n",
       "      <th>video_id</th>\n",
       "      <th>video_title</th>\n",
       "      <th>upload_date</th>\n",
       "      <th>view_count</th>\n",
       "      <th>like_count</th>\n",
       "      <th>comment_count</th>\n",
       "    </tr>\n",
       "  </thead>\n",
       "  <tbody>\n",
       "    <tr>\n",
       "      <th>0</th>\n",
       "      <td>lH7HfwUFnYA</td>\n",
       "      <td>Pivot Tables in Excel | Excel Tutorials for Be...</td>\n",
       "      <td>2021-12-14</td>\n",
       "      <td>3516</td>\n",
       "      <td>240</td>\n",
       "      <td>41</td>\n",
       "    </tr>\n",
       "    <tr>\n",
       "      <th>1</th>\n",
       "      <td>zOR0-nygfDE</td>\n",
       "      <td>Tableau Tutorial for Beginners | Full Project ...</td>\n",
       "      <td>2021-12-07</td>\n",
       "      <td>5936</td>\n",
       "      <td>148</td>\n",
       "      <td>26</td>\n",
       "    </tr>\n",
       "    <tr>\n",
       "      <th>2</th>\n",
       "      <td>A4SVUF-fTwc</td>\n",
       "      <td>Tableau Tutorial for Beginners | Joins | Part 4/5</td>\n",
       "      <td>2021-11-23</td>\n",
       "      <td>5220</td>\n",
       "      <td>152</td>\n",
       "      <td>14</td>\n",
       "    </tr>\n",
       "    <tr>\n",
       "      <th>3</th>\n",
       "      <td>FnTunxd8tAM</td>\n",
       "      <td>Top 5 Major Red Flags in Job Descriptions</td>\n",
       "      <td>2021-11-18</td>\n",
       "      <td>9128</td>\n",
       "      <td>555</td>\n",
       "      <td>58</td>\n",
       "    </tr>\n",
       "    <tr>\n",
       "      <th>4</th>\n",
       "      <td>-_z_aphWSEo</td>\n",
       "      <td>Truth About My Job (Song) - As a Data Analyst</td>\n",
       "      <td>2021-11-08</td>\n",
       "      <td>6870</td>\n",
       "      <td>647</td>\n",
       "      <td>90</td>\n",
       "    </tr>\n",
       "  </tbody>\n",
       "</table>\n",
       "</div>"
      ],
      "text/plain": [
       "      video_id                                        video_title upload_date  \\\n",
       "0  lH7HfwUFnYA  Pivot Tables in Excel | Excel Tutorials for Be...  2021-12-14   \n",
       "1  zOR0-nygfDE  Tableau Tutorial for Beginners | Full Project ...  2021-12-07   \n",
       "2  A4SVUF-fTwc  Tableau Tutorial for Beginners | Joins | Part 4/5  2021-11-23   \n",
       "3  FnTunxd8tAM          Top 5 Major Red Flags in Job Descriptions  2021-11-18   \n",
       "4  -_z_aphWSEo      Truth About My Job (Song) - As a Data Analyst  2021-11-08   \n",
       "\n",
       "   view_count  like_count  comment_count  \n",
       "0        3516         240             41  \n",
       "1        5936         148             26  \n",
       "2        5220         152             14  \n",
       "3        9128         555             58  \n",
       "4        6870         647             90  "
      ]
     },
     "execution_count": 36,
     "metadata": {},
     "output_type": "execute_result"
    }
   ],
   "source": [
    "# imports the file downloaded using Youtube API\n",
    "\n",
    "df = pd.read_csv ('youtube_data.csv', index_col=0)\n",
    "df.head()"
   ]
  },
  {
   "cell_type": "code",
   "execution_count": 37,
   "id": "8f27544e",
   "metadata": {},
   "outputs": [],
   "source": [
    "# to establish a connection with DB\n",
    "\n",
    "def connect_to_db (server_name, dbname):\n",
    "    try:\n",
    "        cnxn = pyodbc.connect(\n",
    "            \"driver={ODBC Driver 17 for SQL Server}; server='serve_name'; database= 'database_name' ; trusted_connection=YES;\")\n",
    "\n",
    "    except pyodbc.OperationalError as e:\n",
    "        raise e\n",
    "    else:\n",
    "        print('Connected!')\n",
    "        return cnxn\n",
    "    \n",
    "\n",
    "# function to a new table in SQL database    \n",
    "    \n",
    "def create_table(curr):\n",
    "    table_columns = (\"\"\"CREATE TABLE 'new_table_name' (\n",
    "                                        video_id VARCHAR(255) PRIMARY KEY NOT NULL,\n",
    "                                        video_title TEXT NOT NULL,\n",
    "                                        upload_date DATE NOT NULL,\n",
    "                                        view_count INTEGER NOT NULL,\n",
    "                                        like_count INTEGER NOT NULL\n",
    "                                        )\"\"\")\n",
    "    curr.execute(table_columns)\n",
    "    \n",
    "\n",
    "# to insert a new video into the table   \n",
    "    \n",
    "def insert_into_table(curr, video_id, video_title, upload_date, view_count, like_count):\n",
    "    insert_into_videos = (\"\"\"INSERT INTO 'new_table_name'( video_id, video_title, upload_date, view_count, like_count)\n",
    "                    VALUES(?,?,?,?,?);\"\"\")\n",
    "    \n",
    "    row_to_insert = (video_id, video_title, upload_date, view_count, like_count)\n",
    "    \n",
    "    curr.execute(insert_into_videos, row_to_insert)\n",
    "    \n",
    "\n",
    "# to update the video information after data refresh      \n",
    "    \n",
    "def update_row(curr, video_id, video_title, upload_date, view_count, like_count):\n",
    "    query = (\"\"\"UPDATE 'new_table_name'\n",
    "            SET video_title = ?,\n",
    "                upload_date = ?,\n",
    "                view_count = ?,\n",
    "                like_count = ?\n",
    "                            \n",
    "            WHERE video_id = ?;\"\"\")\n",
    "    \n",
    "    vars_to_update = (video_title, upload_date, view_count, like_count, video_id)\n",
    "    curr.execute(query, vars_to_update)\n",
    "    \n",
    "\n",
    "# to check if the video exists using primary key    \n",
    "    \n",
    "def check_if_video_exists(curr, video_id):\n",
    "    query = (\"\"\"SELECT video_id FROM 'new_table_name' WHERE video_id = ?\"\"\")\n",
    "    \n",
    "    curr.execute(query,(video_id))    \n",
    "    return curr.fetchone() is not None\n",
    "\n",
    "# to add a new video into table\n",
    "\n",
    "def append_from_df_to_db(curr,df):\n",
    "    for i, row in df.iterrows():\n",
    "        insert_into_table(curr, row['video_id'], row['video_title'], row['upload_date'], row['view_count'], row['like_count'])\n",
    "        \n",
    "# create a temporary dataframe \n",
    "        \n",
    "def update_db(curr,df):\n",
    "    tmp_df = pd.DataFrame(columns=['video_id', 'video_title', 'upload_date', 'view_count', 'like_count'])\n",
    "    \n",
    "    for i, row in df.iterrows():\n",
    "        if check_if_video_exists(curr, row['video_id']):\n",
    "            update_row(curr, row['video_id'], row['video_title'], row['upload_date'], row['view_count'], row['like_count'])\n",
    "        else:\n",
    "            tmp_df = tmp_df.append(row)\n",
    "            \n",
    "    return tmp_df"
   ]
  },
  {
   "cell_type": "code",
   "execution_count": 38,
   "id": "8bc5a9bf",
   "metadata": {},
   "outputs": [
    {
     "name": "stdout",
     "output_type": "stream",
     "text": [
      "Connected!\n"
     ]
    }
   ],
   "source": [
    "#database credentials\n",
    "\n",
    "server_name = 'serve_name'\n",
    "dbname = 'database_name'\n",
    "\n",
    "#establish a connection with db\n",
    "\n",
    "cnxn = connect_to_db (server_name, dbname)\n",
    "curr = cnxn.cursor()"
   ]
  },
  {
   "cell_type": "code",
   "execution_count": 39,
   "id": "48c473fc",
   "metadata": {},
   "outputs": [],
   "source": [
    "#create_table\n",
    "\n",
    "create_table(curr)\n",
    "cnxn.commit()"
   ]
  },
  {
   "cell_type": "code",
   "execution_count": 40,
   "id": "57bb4254",
   "metadata": {},
   "outputs": [],
   "source": [
    "#update data to existing videos\n",
    "\n",
    "new_vid_df = update_db(curr,df)\n",
    "cnxn.commit()"
   ]
  },
  {
   "cell_type": "code",
   "execution_count": 41,
   "id": "1f8d7638",
   "metadata": {},
   "outputs": [],
   "source": [
    "#insert new video into db\n",
    "\n",
    "append_from_df_to_db(curr, new_vid_df)\n",
    "cnxn.commit()"
   ]
  },
  {
   "cell_type": "code",
   "execution_count": 42,
   "id": "815cdad5",
   "metadata": {},
   "outputs": [
    {
     "name": "stdout",
     "output_type": "stream",
     "text": [
      "[('-_z_aphWSEo', 'Truth About My Job (Song) - As a Data Analyst', datetime.date(2021, 11, 8), 6870, 647), ('-Inc1be4zSg', 'The Hiring Process from an Interviewer&#39;s Perspective | Alex The Analyst Show | Episode 1', datetime.date(2020, 9, 3), 7826, 338), ('_gP-DH0iZLw', 'Top 5 Reasons Data Analytics is a Good Career Choice', datetime.date(2020, 9, 8), 17390, 671), ('_zxPx1PQCqI', 'I Am No Longer a Data Analyst | Turning Down PwC | New Job', datetime.date(2021, 8, 11), 91549, 3306), ('0HRgbb1PcDQ', 'Data Analyst Salary (Expectations, Bonuses, 401K, ESPP) | Alex The Analyst Show | Episode 13', datetime.date(2020, 12, 3), 11607, 448), ('1gdKC5O0Pwc', 'R vs Python | Which is Better for Data Analysis?', datetime.date(2021, 2, 16), 73800, 2033), ('1xT68oeQTd0', 'Data Analyst Expectations vs Reality', datetime.date(2020, 10, 6), 71112, 2688), ('465x3JmMJYU', 'How NOT to Become a Data Analyst (Funny?)', datetime.date(2021, 9, 7), 13545, 616), ('4rfr6A3lO-Y', 'Data Analyst Resume | Reviewing My Resume! | Fortune 500 Data Analyst', datetime.date(2020, 1, 30), 34951, 992), ('5MZo2RoS8Yo', 'Data Analyst Career Path | How to Become a Data Analyst + What to Do Next', datetime.date(2020, 8, 20), 91283, 3541), ('6lQzbk6_OTw', 'Top 3 Data Analyst Skills in 2020', datetime.date(2020, 1, 17), 20247, 1043), ('6xv1KvCMF1Q', 'Tableau Tutorial for Beginners | Installing Tableau | Building First Visualization | Part 1/5', datetime.date(2021, 9, 21), 24437, 961), ('7uH7_DThtX0', 'Top 3 Tips on Using LinkedIn to Land a Job', datetime.date(2020, 11, 17), 29151, 1733), ('8o-O6pR6yAE', 'IBM Data Analyst Certificate Study Session', datetime.date(2021, 1, 30), 4535, 169), ('8rO7ztF4NtU', 'Data Analyst Portfolio Project | Data Cleaning in SQL | Project 3/4', datetime.date(2021, 5, 25), 47372, 1495), ('8SolrjsGqzE', 'Self Taught vs Boot Camp vs Degree | Alex The Analyst Show | Episode 3', datetime.date(2020, 9, 24), 16834, 672), ('9o9loJpG-t4', 'Data Analyst Fact Check |  84k Average Starting Salary?? | The Career Force 2020 Data Analyst Salary', datetime.date(2020, 2, 26), 15014, 576), ('9RRQtNnq3s0', 'Google vs IBM Data Analytics Certificates | Which is Better?', datetime.date(2021, 4, 13), 107827, 4556), ('9URM1_2S0ho', 'Intermediate SQL Tutorial | Inner/Outer Joins | Use Cases', datetime.date(2020, 3, 19), 46171, 1080), ('A-LkxegXFX8', 'My Wife Answers Subscribers Questions About Me | Alex The Analyst Show | Episode 19', datetime.date(2021, 6, 3), 4826, 201), ('A4OVjWeVb10', 'Best Machine Learning Courses on Coursera', datetime.date(2021, 3, 23), 13430, 589), ('A4SVUF-fTwc', 'Tableau Tutorial for Beginners | Joins | Part 4/5', datetime.date(2021, 11, 23), 5220, 152), ('A9TOuDZTPDU', 'SQL Basics Tutorial For Beginners | Where Statement | 3/4', datetime.date(2020, 3, 2), 26507, 713), ('aJ9Q10v8Nrc', 'Data Analyst Certifications | Are They Worth It? | Alex The Analyst Show | Episode 7', datetime.date(2020, 10, 20), 91961, 3623), ('aLp-6C-p-T0', 'Why You Need to Stop Taking Courses (From an Ex-Course Addict)', datetime.date(2021, 7, 13), 119022, 5148), ('aPDOGxrONy0', '2020 Year End Review + Upcoming Giveaway Details', datetime.date(2020, 12, 31), 1459, 143), ('appOFpF2pFg', 'Best Free Online Courses for Data Analysts', datetime.date(2020, 6, 23), 32742, 1887), ('B2SPC3Wz1R8', 'Best Online Courses for Data Analysts', datetime.date(2020, 6, 17), 115146, 6416), ('BAVPAYWAoC4', 'Data Engineer vs Data Analyst | Which Is Right For You?', datetime.date(2020, 12, 15), 19317, 826), ('BGBXnNvWdQ4', 'Solving LeetCode SQL Interview Questions | Part 1/3', datetime.date(2020, 11, 10), 11154, 349), ('bhnrIforc7s', 'Intermediate SQL Tutorial | Updating/Deleting Data', datetime.date(2020, 4, 16), 10925, 351), ('bHssBHfHWmU', 'Laptops for Data Analysts |  Specifications + Recommendations', datetime.date(2021, 3, 30), 49519, 1393), ('brxnKIy6Cek', 'Asking My Wife Your Questions About Me | Alex The Analyst Show | Episode 8', datetime.date(2020, 10, 27), 7973, 360), ('C2ik_qR5GOU', 'Working at a Startup vs Fortune 500 Company | Alex The Analyst Show | Episode 6', datetime.date(2020, 10, 15), 2491, 131), ('CsMh7Ykmnw4', 'Top 5 Reasons Not to Lie on Your Resume', datetime.date(2020, 9, 1), 6451, 134), ('CUa30M_FPhk', 'Interviewing with PwC for a Senior Data Analyst Position', datetime.date(2021, 8, 17), 47452, 1377), ('D6XNlTfglW4', 'Intermediate SQL Tutorial | Partition By', datetime.date(2020, 12, 1), 23697, 833), ('D9bNctNnAig', 'DataCamp Review | Is it Worth it?', datetime.date(2021, 1, 21), 53858, 1406), ('Dk7he_yEs4U', 'Intermediate SQL Tutorial | Aliasing', datetime.date(2020, 6, 4), 10999, 399), ('DKrSgSy6F1o', '100k Livestream | Announcing Giveaway Winners | Trimming Mustache | Answering Questions', datetime.date(2021, 8, 13), 4550, 189), ('dMHWOhgzUhU', 'How To Get a Data Analyst Job (with No Experience)', datetime.date(2021, 6, 8), 162695, 8258), ('duMcYRtQITA', 'Google Data Analytics Certificate | Coming Out Soon!', datetime.date(2021, 3, 4), 49304, 2342), ('ebjDwX8sUMk', 'Tableau Tutorial for Beginners | Density Maps | Bar and Line Graphs | More Visualizations | Part 3/5', datetime.date(2021, 10, 5), 8178, 276), ('eFDbE5Yunj0', 'IBM Data Analyst Professional Certificate by Coursera | Is it Worth it?', datetime.date(2021, 1, 26), 47968, 1555), ('eg_5EAUXs5o', 'Choosing a Domain to Make More Money', datetime.date(2021, 10, 19), 9054, 508), ('eTsHJoMmhYQ', 'Covid and the Data Analyst Job Market | Alex The Analyst Show | Episode 4', datetime.date(2020, 10, 1), 5687, 229), ('EWPeAXrF3zg', 'Solving Medium Level SQL LeetCode Questions | Part 2/3', datetime.date(2020, 12, 22), 5073, 129), ('f6qxxtWkaUg', 'Tableau Tutorial for Beginners | Calculated Fields | Bins | Part 2/5', datetime.date(2021, 9, 28), 7508, 283), ('FnTunxd8tAM', 'Top 5 Major Red Flags in Job Descriptions', datetime.date(2021, 11, 18), 9128, 555), ('fUpChfNN5Uo', 'Data Scientist vs Data Analyst | Which Is Right For You?', datetime.date(2020, 6, 10), 434287, 14220), ('fweZQqB0nwQ', 'Data Analyst Interview Questions | Phone + In-Person Interview Questions', datetime.date(2020, 5, 6), 26129, 622), ('G4syHs3M82E', 'Data Analyst vs Business Analyst | Which Is Right For You?', datetime.date(2020, 7, 3), 383012, 10488), ('GGLF2jLo8J4', 'What is No Code Analytics? | Alex The Analyst Show | Episode #9', datetime.date(2020, 11, 12), 2680, 102), ('GQj6_6V_jVA', 'Advanced SQL Tutorial | String Functions + Use Cases', datetime.date(2021, 2, 4), 15173, 479), ('hfRcaRw_atI', 'Top 5 Data Analyst Interview Mistakes', datetime.date(2021, 1, 5), 10939, 449), ('HiOtQMcI5wg', 'Amazon Web Scraping Using Python | Data Analyst Portfolio Project', datetime.date(2021, 8, 24), 27872, 1077), ('ho2vzKPAD50', 'Live Data Analyst QA #3', datetime.date(2020, 8, 29), 1935, 82), ('Hsi2BG0SOiQ', 'Truth About Big Companies | Told by a Fortune 500 Data Analyst', datetime.date(2020, 1, 21), 4433, 176), ('iPYVYBtUTyE', 'Data Analyst Portfolio Project | Correlation in Python | Project 4/4', datetime.date(2021, 6, 22), 28352, 842), ('IqQCBytyATo', 'Data Analyst Question and Answer | Answering Your YouTube Questions', datetime.date(2020, 7, 22), 2667, 135), ('IZRe0nwkuXc', 'Data Analyst Q/A #6 | Why Am I Not a Data Scientist?', datetime.date(2021, 4, 15), 15326, 613), ('JikLVP9DkPs', 'Completely REALISTIC Jobs on LinkedIn | Alex The Analyst Show | Episode 11', datetime.date(2020, 11, 25), 10533, 458), ('K1WeoKxLZ5o', 'Advanced SQL Tutorial | CTE (Common Table Expression)', datetime.date(2020, 12, 8), 36742, 728), ('Lacbh0VoT3g', 'Data Analyst Resume | Reviewing YOUR Data Analyst Resumes!', datetime.date(2020, 2, 24), 11207, 287), ('lH7HfwUFnYA', 'Pivot Tables in Excel | Excel Tutorials for Beginners', datetime.date(2021, 12, 14), 3516, 240), ('LJtFgnHGAos', 'Data Analyst QA LIVE', datetime.date(2020, 5, 31), 4754, 159), ('LXwfzIRD-Ds', 'SQL Basics Tutorial For Beginners | Group By + Order By Statements | 4/4', datetime.date(2020, 3, 3), 24822, 993), ('lYKkro6rKm0', 'Intermediate SQL Tutorial | Unions | Union Operator', datetime.date(2020, 3, 26), 22838, 593), ('m1KcNV-Zhmc', 'Advanced SQL Tutorial | Subqueries', datetime.date(2021, 4, 20), 35905, 1218), ('M2ySRYpo9S0', 'Top 5 Reasons Not to Become a Data Analyst', datetime.date(2020, 8, 12), 460037, 10344), ('mLUzFXPPa4I', 'Top 10 Coursera Courses for Data Analysts', datetime.date(2020, 10, 13), 53491, 2960), ('MpIi4HtCiVk', 'Scraping Data Off Twitter Using Python | Twitterscraper + NLP + Data Visualization', datetime.date(2020, 7, 15), 29058, 831), ('MQ5UUNjWgug', 'Data Analyst Q/A LIVE #5 | AMA', datetime.date(2020, 11, 28), 2473, 93), ('N8f7NtDpbxA', 'Working With a Recruiter to Land Your First Job as a Data Analyst | LinkedIn Recruiters', datetime.date(2020, 2, 14), 5086, 250), ('ncXgqGePvwI', 'Data Analyst Bootcamps | Are They Worth It?', datetime.date(2020, 8, 5), 13293, 281), ('NrBJmtD0kEw', 'Advanced SQL Tutorial | Stored Procedures + Use Cases', datetime.date(2021, 3, 16), 33653, 901), ('Ns-8Jsa3mEM', 'Data Analyst Resume | Complete Guide To Creating A Data Analyst Resume | Tips + Templates + Examples', datetime.date(2020, 2, 6), 37506, 1348), ('Ns1ZpTxQnUE', '100k Subscriber Play Button Unboxing', datetime.date(2021, 8, 31), 2386, 231), ('NViKsiGP4TY', 'DataQuest Review | Is it Worth it?', datetime.date(2021, 2, 23), 9133, 224), ('ocdwh0KYeUs', 'How to Create a Portfolio Website for FREE', datetime.date(2021, 6, 29), 33195, 1412), ('OTq2NRy_AGs', 'Working at a Big Company Vs Small Company | Told by a Fortune 500 Data Analyst', datetime.date(2020, 1, 25), 6567, 207), ('oXAwKZWfbW0', 'Day in the Life of a Data Analyst | Fortune 500 Edition (During Quarantine)', datetime.date(2020, 4, 23), 11550, 404), ('oZKs2xMbXQE', 'Data Analyst Salary in 2020', datetime.date(2020, 2, 19), 6254, 119), ('pL0jEjeM5hI', 'How to Grow Your Analytics Career | Alteryx Webinar Oct 2021 | Tips to Break Into Analytics', datetime.date(2021, 10, 26), 9196, 284), ('PurMLMKNX0I', 'What is Analytics Consulting? With John Ariansen | Alex The Analyst Show | Episode 9', datetime.date(2020, 11, 5), 5284, 201), ('pvxNYyJuiqA', 'Data Analyst Skills Path | What Skills You NEED to Know', datetime.date(2020, 11, 3), 36408, 2085), ('pYRG5X7110M', 'Best Course to Learn Statistics for Data Analysis', datetime.date(2021, 2, 25), 21651, 894), ('PyYgERKq25I', 'SQL Basics Tutorial For Beginners | Select + From Statements | 2/4', datetime.date(2020, 3, 1), 40054, 855), ('qewHAdfzLOw', 'Data Analyst Reacts: How to Go From Data Analyst to Data Scientist', datetime.date(2021, 4, 6), 16128, 626), ('qfyynHBFOsM', 'Data Analyst Portfolio Project | SQL Data Exploration | Project 1/4', datetime.date(2021, 5, 4), 271036, 7577), ('QG1fo7LFesA', 'Reviewing Your Data Analyst Resumes | Part 2', datetime.date(2021, 3, 2), 11447, 339), ('QILNlRvJlfQ', 'Data Analyst Portfolio Project | Tableau Visualization | Project 2/4', datetime.date(2021, 5, 18), 69398, 1593), ('qzZU6LAtIig', 'Day in the Life of a Data Analyst | Fortune 500 Edition', datetime.date(2020, 3, 11), 99460, 2034), ('RF0LE3hYFrI', 'Advanced SQL Tutorial | Temp Tables', datetime.date(2021, 2, 2), 23601, 686), ('RJw-GSXXguA', 'Favorite Tableau and Power BI Courses on Udemy', datetime.date(2021, 6, 1), 12682, 514), ('rLKC--8UYSw', 'Data Analyst Interview Questions | What To Say vs What NOT To Say', datetime.date(2020, 5, 20), 17678, 568), ('RSlqWnP-Dy8', 'SQL Basics Tutorial For Beginners | Installing SQL Server Management Studio and Create Tables | 1/4', datetime.date(2020, 3, 1), 152232, 2822), ('ru0Xdvxd37Q', 'Entry vs Mid vs Senior Level Data Analyst | Alex The Analyst Show | Episode 15', datetime.date(2020, 12, 17), 17075, 694), ('rZpfNh28nFI', 'Data Analyst QA LIVE #4', datetime.date(2020, 10, 30), 2807, 92), ('SIseim20_Dc', 'Will Data Analysts Be Automated? | Alex The Analyst | Episode 18', datetime.date(2021, 3, 18), 11192, 378), ('SKsjWzzz4mY', 'Top 5 Reasons You&#39;ll Be a Good Data Analyst', datetime.date(2020, 9, 22), 9271, 466), ('sua7xKN0cPc', 'SQL Interview Questions and Answers for Beginners | Data Analyst Interview Questions', datetime.date(2020, 5, 13), 45544, 1330), ('SVv0WwPzaUg', 'Asking My Family What I Do For a Living', datetime.date(2021, 5, 11), 3254, 182), ('T3KMZoXrVTQ', 'Top 5 Data Analyst Skills', datetime.date(2021, 1, 12), 15090, 889), ('tJaDicmRW7s', 'Best Industries for Data Analysts in 2021 | Alex The Analyst Show | Episode 17', datetime.date(2021, 1, 7), 8562, 319), ('Twusw__OzA8', 'Intermediate SQL Tutorial | Case Statement | Use Cases', datetime.date(2020, 4, 2), 29560, 919), ('tYBOMw7Ob8E', 'Intermediate SQL Tutorial | Having Clause', datetime.date(2020, 4, 9), 13169, 468), ('UGF49YZZRNc', 'When To Start Applying To Your First Data Analyst Job', datetime.date(2021, 7, 21), 28267, 1888), ('VsztBAEtC7c', 'Best Python Course for Data Analysts', datetime.date(2021, 1, 19), 18417, 727), ('w25ZjL0OqT4', 'Data Analyst Resume | Everything You Need to Know | Alex The Analyst Show | Episode 16', datetime.date(2020, 12, 24), 15184, 555), ('wcKzdRVsMOw', 'Switching Careers to Become a Data Analyst | How I Made the Switch', datetime.date(2020, 2, 11), 36435, 1373), ('whgwEwA5SHU', 'How to Find Out Your Coworkers Salary | Alex The Analyst Show | Episode 14', datetime.date(2020, 12, 10), 1791, 75), ('wnapnTAMj68', 'Google Data Analytics Professional Certificate | It&#39;s Finally Here!', datetime.date(2021, 3, 12), 221938, 7802), ('XmFhpoS6Etk', 'Imposter Syndrome in Tech | Alex The Analyst Show | Episode 5', datetime.date(2020, 10, 8), 4280, 246), ('ya28cb3zFGE', 'Data Analyst Salary | 100k with No Experience', datetime.date(2020, 1, 23), 40592, 1538), ('ySq0cgkZiX4', 'Top 10 Udemy Courses for Data Analysts', datetime.date(2020, 10, 22), 54102, 2160), ('ywZXpfdqg1o', 'What Does a Data Analyst Actually Do?', datetime.date(2020, 7, 29), 246133, 5791), ('yzqpYs7dIqY', 'Completely Unrealistic Jobs on LinkedIn | Alex The Analyst Show | Episode 11', datetime.date(2020, 11, 19), 7758, 340), ('Z2AachB309o', 'How I Changed Careers to Become a Data Analyst | Alex The Analyst Show | Episode 2', datetime.date(2020, 9, 10), 201668, 6628), ('ziurEoqEcO4', 'Data Analyst Interviews | Salary Negotiation', datetime.date(2020, 5, 27), 8416, 319), ('zOR0-nygfDE', 'Tableau Tutorial for Beginners | Full Project | Part 5/5', datetime.date(2021, 12, 7), 5936, 148)]\n"
     ]
    }
   ],
   "source": [
    "#view db data\n",
    "\n",
    "curr.execute('SELECT * FROM 'new_table_name')\n",
    "print(curr.fetchall())"
   ]
  }
 ],
 "metadata": {
  "kernelspec": {
   "display_name": "Python 3 (ipykernel)",
   "language": "python",
   "name": "python3"
  },
  "language_info": {
   "codemirror_mode": {
    "name": "ipython",
    "version": 3
   },
   "file_extension": ".py",
   "mimetype": "text/x-python",
   "name": "python",
   "nbconvert_exporter": "python",
   "pygments_lexer": "ipython3",
   "version": "3.9.7"
  }
 },
 "nbformat": 4,
 "nbformat_minor": 5
}
